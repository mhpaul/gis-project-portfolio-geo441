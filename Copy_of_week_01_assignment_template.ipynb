{
  "nbformat": 4,
  "nbformat_minor": 0,
  "metadata": {
    "colab": {
      "provenance": [],
      "include_colab_link": true
    },
    "kernelspec": {
      "name": "python3",
      "display_name": "Python 3"
    },
    "language_info": {
      "name": "python"
    }
  },
  "cells": [
    {
      "cell_type": "markdown",
      "metadata": {
        "id": "view-in-github",
        "colab_type": "text"
      },
      "source": [
        "<a href=\"https://colab.research.google.com/github/mhpaul/gis-project-portfolio-geo441/blob/main/Copy_of_week_01_assignment_template.ipynb\" target=\"_parent\"><img src=\"https://colab.research.google.com/assets/colab-badge.svg\" alt=\"Open In Colab\"/></a>"
      ]
    },
    {
      "cell_type": "markdown",
      "source": [
        "## **GEO 441B/541B Week 1 Assignment: Introduction to ArcGIS Pro GUI**"
      ],
      "metadata": {
        "id": "C0ymCPR5aSHN"
      }
    },
    {
      "cell_type": "markdown",
      "source": [
        "🚀 Created by McKenzie Paul\n",
        "\n",
        "08/28/2024"
      ],
      "metadata": {
        "id": "Pt_OREXFPvkr"
      }
    },
    {
      "cell_type": "markdown",
      "source": [
        "### **Get ready to start**\n",
        "\n",
        "- Click **`File/Save a copy in Drive`** to save a copy of this notebook to my own Google Drive"
      ],
      "metadata": {
        "id": "CMQN_pgaHVLO"
      }
    },
    {
      "cell_type": "markdown",
      "source": [
        "### **Create my first map using ArcGIS Pro**\n",
        "\n",
        "1. **Instructions**\n",
        "   - Follow mapping instructions from [this Canvas file](https://miamioh.instructure.com/courses/218994/files/32640807?wrap=1)\n",
        "   - Mapping instructions are adapted from *Lab 1: Introduction to ArcGIS Pro* in [GIS Fundamentals Resources page](https://www.gisfundamentals.org/resources)\n",
        "\n",
        "2. **Share map**\n",
        "   - Upload the PNG file exported from ArcGIS Pro to my Google Drive folder for Week 1 assignment\n",
        "   - Change Share privilege to make this file viewable by anyone with a link\n",
        "   - Copy the sharable link\n",
        "\n",
        "3. **Obtain a sharable link**\n",
        "\n",
        "   - The default link I get for this PNG file cannot be directly used in Notebook to show the picture correctly\n",
        "   - I made some changes to the default sharable link:\n",
        "    - Keep the **`1IUKiE7hq3ICOehEj6G7xhsx-OSp6k854`** part because this is the unique file ID for the picture\n",
        "    - Deleted **`/view?usp=drive_link`** at the end of the link\n",
        "    - Replaced **`/file/d/`** with **`/uc?export=view&id=`**\n",
        "   - Here is an example I referred to:\n",
        "    - Default sharable link\n",
        "```\n",
        "https://drive.google.com/file/d/1IUKiE7hq3ICOehEj6G7xhsx-OSp6k854/view?usp=drive_link\n",
        "```\n",
        "    - The direct link for view from this example would be\n",
        "```\n",
        "https://drive.google.com/uc?export=view&id=1IUKiE7hq3ICOehEj6G7xhsx-OSp6k854\n",
        "```\n",
        "   - The link below is the correct one I need to use in the next section\n",
        "```\n",
        "https://drive.google.com/uc?export=view&id=1IUKiE7hq3ICOehEj6G7xhsx-OSp6k854\n",
        "\n",
        "```\n",
        "\n",
        "\n",
        "4. **Map**\n",
        "\n",
        "   ![Map](https://drive.google.com/uc?export=view&id=1IUKiE7hq3ICOehEj6G7xhsx-OSp6k854) <!-- Example Image Placeholder -->"
      ],
      "metadata": {
        "id": "WVs4J1jQbESU"
      }
    },
    {
      "cell_type": "markdown",
      "source": [
        "### **Reflection on my first experience with ArcGIS Pro**\n",
        "\n",
        "- Overall, I spent 3 hours to finish creating my first map.\n",
        "- Here is a table showing things that I feel excited and challenging in my first experience working in ArcGIS Pro\n",
        "\n",
        "| Things I'm excited about      | Things challenging for me  |\n",
        "| ----------------------------- | -------------------------- |\n",
        "| The opportunity to create interesting, aesthetically pleasing maps     | Saving files to the correct location and uploading them to the correct place  |\n",
        "| Working with many different types of data     | Adjusting the map frame and selecting the proper area on the map for the map frame    |\n",
        "| Opportunity for customization and a variety of colors    | Finding the correct tabs and buttons   |\n",
        "\n",
        "- Here is how I rate my first experience working in ArcGIS Pro:\n",
        "  - Data import and management\n",
        "    - Importing the data, as well as unzipping the file, was fairly easy. The data files were labeled clearly and the instructions clearly marked out which data file was supposed to go on which map. When I went to add data to the map, that button was also easy to find. Rearranging the layers was simple, so I would rate this experience a 9/10.\n",
        "  - Map creation and annotation\n",
        "    - This was a little more difficult than simply inputting the data. Most of the map creation process I really enjoyed, and I liked all of the different features for the different colors and shapes to choose from that allows for customization. I got a little bogged down in the super technical details, like finding how to change the font size on text boxes or adjusting the scale bar, but managed to figure it out. I struggled the most with choosing the correct size of the map to put on the layout and getting the frame to be the right size. Overall, I would rate this part a 7/10.\n",
        "  - Navigate the software using its GUI\n",
        "    - This was a little difficult for me since I'm not super familiar with computer technology in general, but I really enjoyed having the super detailed document to help me along. I think once I get more comfortable with the program, I will be able to use it without the instructions, too. Overall, 8/10."
      ],
      "metadata": {
        "id": "i4RTLellbUh7"
      }
    },
    {
      "cell_type": "markdown",
      "source": [
        "### **Save and share this notebook**\n",
        "\n",
        "- I made this notebook viewable by anyone with the link\n",
        "\n",
        "![Share Notebook](https://drive.google.com/uc?export=view&id=1AKHhf8uTH_w-IG6Nfk7gCHhfHPpLh7uQ)\n",
        "\n",
        "- Then I copied [this link](https://colab.research.google.com/drive/1h-YPmhtX4tSqtrCHyzj1Gs19H1HXDD79?usp=sharing) as my submission to Assignment Week 1"
      ],
      "metadata": {
        "id": "kkgukjDcXsqC"
      }
    },
    {
      "cell_type": "markdown",
      "source": [
        "### **Reference**\n",
        "\n",
        "- [Markdown cheat sheet](https://www.markdownguide.org/cheat-sheet/)\n",
        "- [Assignment 1 Guide](https://miamioh.instructure.com/courses/218994/assignments/2881758?module_item_id=5406190)"
      ],
      "metadata": {
        "id": "fvMbEX89YLeY"
      }
    }
  ]
}