{
  "nbformat": 4,
  "nbformat_minor": 0,
  "metadata": {
    "colab": {
      "provenance": [],
      "include_colab_link": true
    },
    "kernelspec": {
      "name": "python3",
      "display_name": "Python 3"
    },
    "language_info": {
      "name": "python"
    }
  },
  "cells": [
    {
      "cell_type": "markdown",
      "metadata": {
        "id": "view-in-github",
        "colab_type": "text"
      },
      "source": [
        "<a href=\"https://colab.research.google.com/github/mhpaul/gis-project-portfolio-geo441/blob/main/Copy_of_week_03_assignment_template.ipynb\" target=\"_parent\"><img src=\"https://colab.research.google.com/assets/colab-badge.svg\" alt=\"Open In Colab\"/></a>"
      ]
    },
    {
      "cell_type": "markdown",
      "source": [
        "# **Projecting Geographic Data**"
      ],
      "metadata": {
        "id": "C0ymCPR5aSHN"
      }
    },
    {
      "cell_type": "markdown",
      "source": [
        "🚀 Created by McKenzie Paul\n",
        "09/16/2024"
      ],
      "metadata": {
        "id": "Pt_OREXFPvkr"
      }
    },
    {
      "cell_type": "markdown",
      "source": [
        "## **Get ready to start**\n",
        "\n",
        "- Click **`File/Save a copy in Drive`** to save a copy of this notebook to my own Google Drive"
      ],
      "metadata": {
        "id": "CMQN_pgaHVLO"
      }
    },
    {
      "cell_type": "markdown",
      "source": [
        "## **Overview**\n",
        "\n",
        "This notebook includes a map of reprojected Minnesota county boundaries with an inset global view. This is a start of more mapping exercise using different projections.\n",
        "\n",
        "Basic coordinate system information will be provided for the map. In next week, we will use maps produced under different projections and conduct measurement to understand the differences across projections. These recorded measurements will be entered into a worksheet."
      ],
      "metadata": {
        "id": "6tKmlbnzny_I"
      }
    },
    {
      "cell_type": "markdown",
      "source": [
        "## **Map Minnesota counties**\n"
      ],
      "metadata": {
        "id": "WVs4J1jQbESU"
      }
    },
    {
      "cell_type": "markdown",
      "source": [
        "- Below is a map of Minnesota counties\n",
        "\n",
        "```markdown\n",
        "https://drive.google.com/file/d/1pwUu1grxITR-837-UC90c2bUTaYWxPaJ/view?usp=sharing\n",
        "```\n",
        "\n",
        "- After finishing the two steps below, a link can be created to correctly rendered in Google Colab\n",
        "  - Deleted **`/view?usp=sharing`** at the end of the link\n",
        "  - Replaced **`/file/d/`** with **`/uc?export=view&id=`**\n",
        "\n",
        "```markdown\n",
        "https://drive.google.com/uc?export=view&id=1pwUu1grxITR-837-UC90c2bUTaYWxPaJ\n",
        "```\n",
        "\n",
        "- The map can be inserted in Google Colab following the syntax [from here](https://www.markdownguide.org/cheat-sheet/)\n",
        "\n",
        "![MN Map](https://drive.google.com/uc?export=view&id=1pwUu1grxITR-837-UC90c2bUTaYWxPaJ)"
      ],
      "metadata": {
        "id": "wkJqun7umRRk"
      }
    },
    {
      "cell_type": "markdown",
      "source": [
        "## **Coordinates of selected points in Minnesota map**\n",
        "\n",
        "| Point      | X coordinate (lon)  | Y coordinate (lat) |\n",
        "| ------- | --------------------- |------------------- |\n",
        "| northeast corner of Ramsey County     | 92.984° W | 45.123° N |"
      ],
      "metadata": {
        "id": "5bk5DtYP3f_g"
      }
    },
    {
      "cell_type": "markdown",
      "source": [
        "## **Information of the coordinate systems**\n",
        "\n",
        "- By checking the **`Layer Properties`**, we can obtain the following info about the coordinate system used in map\n",
        "\n",
        "\n",
        "| Variable      | Information  |\n",
        "| ----------------------------- | -------------------------- |\n",
        "| Projection used in map     | Transverse Mercator  |\n",
        "| Projection zone number     | 15N    |\n",
        "| Coordinate system      | NAD 1983 UTM Zone 15N   |\n",
        "| Datum | D North American 1983|\n"
      ],
      "metadata": {
        "id": "i4RTLellbUh7"
      }
    },
    {
      "cell_type": "markdown",
      "source": [
        "## **Save and share this notebook**\n",
        "\n",
        "- Make this notebook viewable by anyone with the link and submit the link to Canvas as Week 3 assignment"
      ],
      "metadata": {
        "id": "kkgukjDcXsqC"
      }
    },
    {
      "cell_type": "markdown",
      "source": [
        "## **Reference**\n",
        "\n",
        "- [Markdown cheat sheet](https://www.markdownguide.org/cheat-sheet/)\n",
        "- [Week 3 Assignment Guide](https://miamioh.instructure.com/courses/218994/assignments/2902811?module_item_id=5448552)"
      ],
      "metadata": {
        "id": "fvMbEX89YLeY"
      }
    }
  ]
}